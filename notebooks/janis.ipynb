{
 "cells": [
  {
   "cell_type": "code",
   "execution_count": 4,
   "metadata": {},
   "outputs": [
    {
     "ename": "ModuleNotFoundError",
     "evalue": "No module named 'pyproj'",
     "output_type": "error",
     "traceback": [
      "\u001b[0;31m---------------------------------------------------------------------------\u001b[0m",
      "\u001b[0;31mModuleNotFoundError\u001b[0m                       Traceback (most recent call last)",
      "Cell \u001b[0;32mIn[4], line 1\u001b[0m\n\u001b[0;32m----> 1\u001b[0m \u001b[38;5;28;01mfrom\u001b[39;00m \u001b[38;5;21;01mpyproj\u001b[39;00m \u001b[38;5;28;01mimport\u001b[39;00m Transformer\n\u001b[1;32m      3\u001b[0m \u001b[38;5;66;03m# Initialisieren der Transformer\u001b[39;00m\n\u001b[1;32m      4\u001b[0m wgs_to_utm_transformer \u001b[38;5;241m=\u001b[39m Transformer\u001b[38;5;241m.\u001b[39mfrom_crs(\u001b[38;5;124m\"\u001b[39m\u001b[38;5;124mepsg:4326\u001b[39m\u001b[38;5;124m\"\u001b[39m, \u001b[38;5;124m\"\u001b[39m\u001b[38;5;124mepsg:25832\u001b[39m\u001b[38;5;124m\"\u001b[39m, always_xy\u001b[38;5;241m=\u001b[39m\u001b[38;5;28;01mTrue\u001b[39;00m)\n",
      "\u001b[0;31mModuleNotFoundError\u001b[0m: No module named 'pyproj'"
     ]
    }
   ],
   "source": [
    "from pyproj import Transformer\n",
    "\n",
    "# Initialisieren der Transformer\n",
    "wgs_to_utm_transformer = Transformer.from_crs(\"epsg:4326\", \"epsg:25832\", always_xy=True)\n",
    "utm_to_wgs_transformer = Transformer.from_crs(\"epsg:25832\", \"epsg:4326\", always_xy=True)\n",
    "\n",
    "# Überprüfen wir die Transformation und die anschließende Punkt-in-Polygon-Überprüfung noch einmal sorgfältig.\n",
    "\n",
    "# Transformieren der Koordinaten nochmals korrekt, um jede mögliche Verwechslung auszuschließen\n",
    "# Die Verwendung von transform() sollte x, y in der UTM Zone 32N liefern, wobei x die Ost-West-Position (Easting)\n",
    "# und y die Nord-Süd-Position (Northing) ist.\n",
    "\n",
    "# Erneute Transformation unter Verwendung von pyproj Transformer für eine klarere Syntax\n",
    "from pyproj import Transformer\n",
    "\n",
    "# Erstellen eines Transformators für die Koordinatenkonvertierung\n",
    "transformer = Transformer.from_crs(\"epsg:4326\", \"epsg:25832\", always_xy=True)\n",
    "\n",
    "# Anwenden der Transformation\n",
    "x_utm, y_utm = transformer.transform(lon, lat)\n",
    "\n",
    "# Erstellen des Punktes mit korrekten transformierten Koordinaten\n",
    "point_corrected = Point(x_utm, y_utm)\n",
    "\n",
    "# Überprüfung der Zugehörigkeit des Punktes zu den Polygonen in der GeoJSON-Datei\n",
    "point_in_feature_corrected = False\n",
    "for feature in geojson_content['features']:\n",
    "    polygon = shape(feature['geometry'])\n",
    "    if polygon.contains(point_corrected):\n",
    "        point_in_feature_corrected = True\n",
    "        break\n",
    "\n",
    "(point_in_feature_corrected, x_utm, y_utm)"
   ]
  },
  {
   "cell_type": "code",
   "execution_count": 1,
   "metadata": {},
   "outputs": [
    {
     "data": {
      "text/plain": [
       "(700108.6343251554, 5334415.579024226)"
      ]
     },
     "execution_count": 1,
     "metadata": {},
     "output_type": "execute_result"
    }
   ],
   "source": [
    "from pyproj import Transformer\n",
    "\n",
    "# Initialisieren der Transformer\n",
    "wgs_to_utm_transformer = Transformer.from_crs(\"epsg:4326\", \"epsg:25832\", always_xy=True)\n",
    "utm_to_wgs_transformer = Transformer.from_crs(\"epsg:25832\", \"epsg:4326\", always_xy=True)\n",
    "\n",
    "# Verwenden der definierten Funktion, um die Transformation für die angegebenen Koordinaten durchzuführen:\n",
    "# 48,131507 (Breitengrad), 11,689532 (Längengrad)\n",
    "\n",
    "# Definierte Funktion zur Transformation\n",
    "def transform_lat_lon_to_utm(lat, lon):\n",
    "    \"\"\"\n",
    "    Transformiert geografische Koordinaten in ETRS89 / UTM Zone 32N Koordinaten.\n",
    "    \n",
    "    :param lat: Breitengrad\n",
    "    :param lon: Längengrad\n",
    "    :return: Tuple (x, y) repräsentiert die transformierten UTM Koordinaten (Easting, Northing)\n",
    "    \"\"\"\n",
    "    transformer = Transformer.from_crs(\"epsg:4326\", \"epsg:25832\", always_xy=True)\n",
    "    x, y = transformer.transform(lon, lat)\n",
    "    return x, y\n",
    "\n",
    "# Koordinaten für die Transformation\n",
    "lat_input, lon_input = 48.131507, 11.689532\n",
    "\n",
    "# Durchführung der Transformation\n",
    "transform_lat_lon_to_utm(lat_input, lon_input)"
   ]
  },
  {
   "cell_type": "code",
   "execution_count": 2,
   "metadata": {},
   "outputs": [
    {
     "ename": "ModuleNotFoundError",
     "evalue": "No module named 'geopandas'",
     "output_type": "error",
     "traceback": [
      "\u001b[0;31m---------------------------------------------------------------------------\u001b[0m",
      "\u001b[0;31mModuleNotFoundError\u001b[0m                       Traceback (most recent call last)",
      "Cell \u001b[0;32mIn[2], line 1\u001b[0m\n\u001b[0;32m----> 1\u001b[0m \u001b[38;5;28;01mimport\u001b[39;00m \u001b[38;5;21;01mgeopandas\u001b[39;00m \u001b[38;5;28;01mas\u001b[39;00m \u001b[38;5;21;01mgpd\u001b[39;00m\n\u001b[1;32m      2\u001b[0m \u001b[38;5;28;01mfrom\u001b[39;00m \u001b[38;5;21;01mshapely\u001b[39;00m\u001b[38;5;21;01m.\u001b[39;00m\u001b[38;5;21;01mgeometry\u001b[39;00m \u001b[38;5;28;01mimport\u001b[39;00m Point\n\u001b[1;32m      4\u001b[0m \u001b[38;5;28;01mdef\u001b[39;00m \u001b[38;5;21mcheck_location_inside\u001b[39m(file_path, location):\n\u001b[1;32m      5\u001b[0m     \u001b[38;5;66;03m# Load the file containing the Bezirks polygons\u001b[39;00m\n",
      "\u001b[0;31mModuleNotFoundError\u001b[0m: No module named 'geopandas'"
     ]
    }
   ],
   "source": [
    "import geopandas as gpd\n",
    "from shapely.geometry import Point\n",
    "\n",
    "def check_location_inside(file_path, location):\n",
    "    # Load the file containing the Bezirks polygons\n",
    "    bezirks = gpd.read_file(file_path)\n",
    "    \n",
    "    # Convert the location to a Point geometry\n",
    "    point = Point(location)\n",
    "    \n",
    "    # Check if the point is inside any of the Bezirks polygons\n",
    "    for index, row in bezirks.iterrows():\n",
    "        if point.within(row['geometry']):\n",
    "            return row['id']  # Return the ID of the Bezirk if the location is inside\n",
    "    \n",
    "    return None  # Return None if the location is not inside any Bezirk\n",
    "\n",
    "# Example usage:\n",
    "file_path = \"path/to/bezirks_file.shp\"  # Replace with the actual path to your file\n",
    "location = (700108.6343251554, 5334415.579024226)\n",
    "bezirk_id = check_location_inside(file_path, location)\n",
    "if bezirk_id is not None:\n",
    "    print(f\"The location is inside Bezirk {bezirk_id}.\")\n",
    "else:\n",
    "    print(\"The location is not inside any Bezirk.\")\n"
   ]
  }
 ],
 "metadata": {
  "kernelspec": {
   "display_name": "viz",
   "language": "python",
   "name": "python3"
  },
  "language_info": {
   "codemirror_mode": {
    "name": "ipython",
    "version": 3
   },
   "file_extension": ".py",
   "mimetype": "text/x-python",
   "name": "python",
   "nbconvert_exporter": "python",
   "pygments_lexer": "ipython3",
   "version": "3.11.7"
  }
 },
 "nbformat": 4,
 "nbformat_minor": 2
}
