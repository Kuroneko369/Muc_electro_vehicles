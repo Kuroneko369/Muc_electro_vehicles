{
 "cells": [
  {
   "cell_type": "code",
   "execution_count": 1,
   "id": "0973cf58",
   "metadata": {},
   "outputs": [],
   "source": [
    "import pandas as pd\n",
    "import matplotlib.pyplot as plt\n",
    "import seaborn as sns"
   ]
  },
  {
   "cell_type": "code",
   "execution_count": 2,
   "id": "ce2c7f1e",
   "metadata": {},
   "outputs": [],
   "source": [
    "df=pd.read_csv('df_ekfz.csv')"
   ]
  },
  {
   "cell_type": "code",
   "execution_count": 4,
   "id": "2b900d3b",
   "metadata": {},
   "outputs": [],
   "source": [
    "df_ekfz=df.copy()"
   ]
  },
  {
   "cell_type": "code",
   "execution_count": 5,
   "id": "cc31a633",
   "metadata": {},
   "outputs": [],
   "source": [
    "df_ekfz['date'] = pd.to_datetime(df['MONAT'].astype(str), format='%Y%m')"
   ]
  },
  {
   "cell_type": "code",
   "execution_count": 6,
   "id": "da08d285",
   "metadata": {},
   "outputs": [
    {
     "data": {
      "text/html": [
       "<div>\n",
       "<style scoped>\n",
       "    .dataframe tbody tr th:only-of-type {\n",
       "        vertical-align: middle;\n",
       "    }\n",
       "\n",
       "    .dataframe tbody tr th {\n",
       "        vertical-align: top;\n",
       "    }\n",
       "\n",
       "    .dataframe thead th {\n",
       "        text-align: right;\n",
       "    }\n",
       "</style>\n",
       "<table border=\"1\" class=\"dataframe\">\n",
       "  <thead>\n",
       "    <tr style=\"text-align: right;\">\n",
       "      <th></th>\n",
       "      <th>Unnamed: 0</th>\n",
       "      <th>MONAT</th>\n",
       "      <th>Elektro</th>\n",
       "      <th>Hybrid</th>\n",
       "      <th>komb</th>\n",
       "      <th>date</th>\n",
       "    </tr>\n",
       "  </thead>\n",
       "  <tbody>\n",
       "    <tr>\n",
       "      <th>0</th>\n",
       "      <td>0</td>\n",
       "      <td>201601</td>\n",
       "      <td>1224.0</td>\n",
       "      <td>4523.0</td>\n",
       "      <td>5747.0</td>\n",
       "      <td>2016-01-01</td>\n",
       "    </tr>\n",
       "    <tr>\n",
       "      <th>1</th>\n",
       "      <td>1</td>\n",
       "      <td>201602</td>\n",
       "      <td>1258.0</td>\n",
       "      <td>4576.0</td>\n",
       "      <td>5834.0</td>\n",
       "      <td>2016-02-01</td>\n",
       "    </tr>\n",
       "    <tr>\n",
       "      <th>2</th>\n",
       "      <td>2</td>\n",
       "      <td>201603</td>\n",
       "      <td>1279.0</td>\n",
       "      <td>4670.0</td>\n",
       "      <td>5949.0</td>\n",
       "      <td>2016-03-01</td>\n",
       "    </tr>\n",
       "    <tr>\n",
       "      <th>3</th>\n",
       "      <td>3</td>\n",
       "      <td>201604</td>\n",
       "      <td>1303.0</td>\n",
       "      <td>4814.0</td>\n",
       "      <td>6117.0</td>\n",
       "      <td>2016-04-01</td>\n",
       "    </tr>\n",
       "    <tr>\n",
       "      <th>4</th>\n",
       "      <td>4</td>\n",
       "      <td>201605</td>\n",
       "      <td>1323.0</td>\n",
       "      <td>4824.0</td>\n",
       "      <td>6147.0</td>\n",
       "      <td>2016-05-01</td>\n",
       "    </tr>\n",
       "    <tr>\n",
       "      <th>...</th>\n",
       "      <td>...</td>\n",
       "      <td>...</td>\n",
       "      <td>...</td>\n",
       "      <td>...</td>\n",
       "      <td>...</td>\n",
       "      <td>...</td>\n",
       "    </tr>\n",
       "    <tr>\n",
       "      <th>91</th>\n",
       "      <td>91</td>\n",
       "      <td>202308</td>\n",
       "      <td>32329.0</td>\n",
       "      <td>103555.0</td>\n",
       "      <td>135884.0</td>\n",
       "      <td>2023-08-01</td>\n",
       "    </tr>\n",
       "    <tr>\n",
       "      <th>92</th>\n",
       "      <td>92</td>\n",
       "      <td>202309</td>\n",
       "      <td>33084.0</td>\n",
       "      <td>104691.0</td>\n",
       "      <td>137775.0</td>\n",
       "      <td>2023-09-01</td>\n",
       "    </tr>\n",
       "    <tr>\n",
       "      <th>93</th>\n",
       "      <td>93</td>\n",
       "      <td>202310</td>\n",
       "      <td>33281.0</td>\n",
       "      <td>103657.0</td>\n",
       "      <td>136938.0</td>\n",
       "      <td>2023-10-01</td>\n",
       "    </tr>\n",
       "    <tr>\n",
       "      <th>94</th>\n",
       "      <td>94</td>\n",
       "      <td>202311</td>\n",
       "      <td>33552.0</td>\n",
       "      <td>103213.0</td>\n",
       "      <td>136765.0</td>\n",
       "      <td>2023-11-01</td>\n",
       "    </tr>\n",
       "    <tr>\n",
       "      <th>95</th>\n",
       "      <td>95</td>\n",
       "      <td>202312</td>\n",
       "      <td>34371.0</td>\n",
       "      <td>102616.0</td>\n",
       "      <td>136987.0</td>\n",
       "      <td>2023-12-01</td>\n",
       "    </tr>\n",
       "  </tbody>\n",
       "</table>\n",
       "<p>96 rows × 6 columns</p>\n",
       "</div>"
      ],
      "text/plain": [
       "    Unnamed: 0   MONAT  Elektro    Hybrid      komb       date\n",
       "0            0  201601   1224.0    4523.0    5747.0 2016-01-01\n",
       "1            1  201602   1258.0    4576.0    5834.0 2016-02-01\n",
       "2            2  201603   1279.0    4670.0    5949.0 2016-03-01\n",
       "3            3  201604   1303.0    4814.0    6117.0 2016-04-01\n",
       "4            4  201605   1323.0    4824.0    6147.0 2016-05-01\n",
       "..         ...     ...      ...       ...       ...        ...\n",
       "91          91  202308  32329.0  103555.0  135884.0 2023-08-01\n",
       "92          92  202309  33084.0  104691.0  137775.0 2023-09-01\n",
       "93          93  202310  33281.0  103657.0  136938.0 2023-10-01\n",
       "94          94  202311  33552.0  103213.0  136765.0 2023-11-01\n",
       "95          95  202312  34371.0  102616.0  136987.0 2023-12-01\n",
       "\n",
       "[96 rows x 6 columns]"
      ]
     },
     "execution_count": 6,
     "metadata": {},
     "output_type": "execute_result"
    }
   ],
   "source": [
    "df_ekfz"
   ]
  },
  {
   "cell_type": "code",
   "execution_count": 13,
   "id": "439afcf6",
   "metadata": {},
   "outputs": [
    {
     "data": {
      "text/plain": [
       "<Axes: xlabel='date', ylabel='komb'>"
      ]
     },
     "execution_count": 13,
     "metadata": {},
     "output_type": "execute_result"
    },
    {
     "data": {
      "image/png": "[encoded data removed]",
      "text/plain": [
       "<Figure size 640x480 with 1 Axes>"
      ]
     },
     "metadata": {},
     "output_type": "display_data"
    }
   ],
   "source": [
    "sns.scatterplot(df_ekfz, x='date', y='komb',color='g',label='accumulated')\n",
    "sns.scatterplot(df_ekfz, x='date', y='Hybrid',color='b',label='Hybrid')\n",
    "sns.scatterplot(df_ekfz, x='date', y='Elektro',color='r',label='Elektro')\n",
    "\n"
   ]
  },
  {
   "cell_type": "code",
   "execution_count": null,
   "id": "3de26fb5",
   "metadata": {},
   "outputs": [],
   "source": [
    "df_ekfz.to_csv(\"df_ekfz.csv\")"
   ]
  }
 ],
 "metadata": {
  "kernelspec": {
   "display_name": "VIZ",
   "language": "python",
   "name": "viz"
  },
  "language_info": {
   "codemirror_mode": {
    "name": "ipython",
    "version": 3
   },
   "file_extension": ".py",
   "mimetype": "text/x-python",
   "name": "python",
   "nbconvert_exporter": "python",
   "pygments_lexer": "ipython3",
   "version": "3.10.13"
  }
 },
 "nbformat": 4,
 "nbformat_minor": 5
}
