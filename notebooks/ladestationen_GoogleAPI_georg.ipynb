{
 "cells": [
  {
   "cell_type": "code",
   "execution_count": 66,
   "id": "915f5891-f7f4-4454-87b1-7152fa89fb2e",
   "metadata": {},
   "outputs": [],
   "source": [
    "import pandas as pd\n",
    "import requests\n",
    "import yaml\n",
    "import matplotlib.pyplot as plt"
   ]
  },
  {
   "cell_type": "code",
   "execution_count": 37,
   "id": "94733d7c-7cf4-476e-952d-71be642db080",
   "metadata": {},
   "outputs": [],
   "source": [
    "import json"
   ]
  },
  {
   "cell_type": "code",
   "execution_count": 39,
   "id": "2956fb5d-37ed-4a1a-a1c8-e564dd18ba33",
   "metadata": {},
   "outputs": [],
   "source": [
    "with open(\"credentials_geo.json\", \"w\") as output:\n",
    "    json.dump(key_dict, output)"
   ]
  },
  {
   "cell_type": "code",
   "execution_count": 41,
   "id": "59915491-36a3-415f-8e3e-eee12db610dd",
   "metadata": {},
   "outputs": [],
   "source": [
    "key_json = json.load(open(\"credentials_geo.json\"))"
   ]
  },
  {
   "cell_type": "code",
   "execution_count": 42,
   "id": "b52ed979-974c-4589-a2e6-e49e6f9ecca5",
   "metadata": {},
   "outputs": [],
   "source": [
    "gmaps_key = key_json[\"key\"]"
   ]
  },
  {
   "cell_type": "code",
   "execution_count": 93,
   "id": "67f4c197-f2fc-43dc-a05b-df9932827408",
   "metadata": {},
   "outputs": [
    {
     "data": {
      "text/plain": [
       "{'business_status': 'OPERATIONAL',\n",
       " 'formatted_address': 'Beethovenpl. 3, 1010 Wien, Austria',\n",
       " 'geometry': {'location': {'lat': 48.2022522, 'lng': 16.3771432},\n",
       "  'viewport': {'northeast': {'lat': 48.20361907989272,\n",
       "    'lng': 16.37850922989272},\n",
       "   'southwest': {'lat': 48.20091942010728, 'lng': 16.37580957010728}}},\n",
       " 'icon': 'https://maps.gstatic.com/mapfiles/place_api/icons/v1/png_71/generic_business-71.png',\n",
       " 'icon_background_color': '#7B9EB0',\n",
       " 'icon_mask_base_uri': 'https://maps.gstatic.com/mapfiles/place_api/icons/v2/generic_pinlet',\n",
       " 'name': 'Tanke Wien Energie Charging Station',\n",
       " 'opening_hours': {'open_now': True},\n",
       " 'photos': [{'height': 2573,\n",
       "   'html_attributions': ['<a href=\"https://maps.google.com/maps/contrib/105030920112724183446\">A Google User</a>'],\n",
       "   'photo_reference': 'ATplDJbisxaigTvRbWONEDvAawL5bArPIEUshoL2QJK5xHMtFpH1AL03nKGJmzxmL60ZV1KquhDmSRQPOdwnUoACoxq1x61vtGlh0IURBymqOzZcJXteCpN9JYng-UsUOVPFQ96tthtmJCArse_LdQzpoZu7fJEOHyGhEIv77l1KhbSOt2Y1',\n",
       "   'width': 1448}],\n",
       " 'place_id': 'ChIJqepJSXYHbUcRK1HUfhowt_U',\n",
       " 'plus_code': {'compound_code': '692G+WV Vienna, Austria',\n",
       "  'global_code': '8FWR692G+WV'},\n",
       " 'rating': 2,\n",
       " 'reference': 'ChIJqepJSXYHbUcRK1HUfhowt_U',\n",
       " 'types': ['point_of_interest', 'establishment'],\n",
       " 'user_ratings_total': 2}"
      ]
     },
     "execution_count": 93,
     "metadata": {},
     "output_type": "execute_result"
    }
   ],
   "source": [
    "url = \"https://maps.googleapis.com/maps/api/place/textsearch/json?\"\n",
    "\n",
    "# text string on which to search\n",
    "query = \"Ladestation für Elektrofahrzeuge in München\"\n",
    "\n",
    "# actual api key\n",
    "api_key = gmaps_key\n",
    "\n",
    "# get method of requests module, return response object\n",
    "req = requests.get(url + \"query=\" + query + \"&key=\" + api_key)\n",
    "\n",
    "# json method of response object: json format data -> python format data\n",
    "places_json = req.json()\n",
    "\n",
    "# now result contains list of nested dictionaries\n",
    "my_result = places_json[\"results\"]\n",
    "\n",
    "# take a look at the first element\n",
    "my_result[0]"
   ]
  },
  {
   "cell_type": "code",
   "execution_count": 94,
   "id": "491f4e9d-619d-47f1-9489-2c35633e9361",
   "metadata": {},
   "outputs": [],
   "source": [
    "df_lade = pd.DataFrame(my_result)"
   ]
  },
  {
   "cell_type": "code",
   "execution_count": 95,
   "id": "5357db25-6e64-4466-a256-912da05e00ea",
   "metadata": {},
   "outputs": [
    {
     "data": {
      "text/plain": [
       "0               Beethovenpl. 3, 1010 Wien, Austria\n",
       "1          Otto-Wagner-Platz 1, 1090 Wien, Austria\n",
       "2                  Morzinpl. 4, 1010 Wien, Austria\n",
       "3        Josef-Meinrad-Platz 1, 1010 Wien, Austria\n",
       "4              Rathausstraße 1, 1010 Wien, Austria\n",
       "5             Kärntner Str. 51, 1010 Wien, Austria\n",
       "6          Str. des Achten Mai, 1090 Wien, Austria\n",
       "7        Untere Donaustraße 21, 1020 Wien, Austria\n",
       "8             Leopoldsgasse 39, 1020 Wien, Austria\n",
       "9            ggü. 2, Malzgasse, 1020 Wien, Austria\n",
       "10    Anton-von-Webern-Platz 1, 1030 Wien, Austria\n",
       "11             Gonzagagasse 23, 1010 Wien, Austria\n",
       "12         Reichsratsstraße 11, 1010 Wien, Austria\n",
       "13            Johannesgasse 33, 1010 Wien, Austria\n",
       "14           Mattiellistraße 3, 1040 Wien, Austria\n",
       "15            Castellezgasse 4, 1020 Wien, Austria\n",
       "16             Taborstraße 20a, 1020 Wien, Austria\n",
       "17                   Freyung 5, 1010 Wien, Austria\n",
       "18          vor, Stubenring 22, 1010 Wien, Austria\n",
       "19             Mahlerstraße 12, 1010 Wien, Austria\n",
       "Name: formatted_address, dtype: object"
      ]
     },
     "execution_count": 95,
     "metadata": {},
     "output_type": "execute_result"
    }
   ],
   "source": [
    "df_lade[\"formatted_address\"]"
   ]
  },
  {
   "cell_type": "code",
   "execution_count": 78,
   "id": "a54a54bf-46fe-4adf-b3b6-122a05280210",
   "metadata": {},
   "outputs": [],
   "source": [
    "marienplatz = str(my_result[0][\"geometry\"][\"location\"][\"lat\"]) + \", \" + str(my_result[0][\"geometry\"][\"location\"][\"lng\"])"
   ]
  },
  {
   "cell_type": "code",
   "execution_count": 88,
   "id": "e2afe161-95a3-4f0d-80be-94110a606e73",
   "metadata": {},
   "outputs": [
    {
     "data": {
      "text/plain": [
       "{'business_status': 'OPERATIONAL',\n",
       " 'geometry': {'location': {'lat': 48.1303697, 'lng': 11.589219},\n",
       "  'viewport': {'northeast': {'lat': 48.13171837989272,\n",
       "    'lng': 11.59057267989273},\n",
       "   'southwest': {'lat': 48.12901872010728, 'lng': 11.58787302010728}}},\n",
       " 'icon': 'https://maps.gstatic.com/mapfiles/place_api/icons/v1/png_71/generic_business-71.png',\n",
       " 'icon_background_color': '#7B9EB0',\n",
       " 'icon_mask_base_uri': 'https://maps.gstatic.com/mapfiles/place_api/icons/v2/generic_pinlet',\n",
       " 'name': 'Moon Charging Station',\n",
       " 'opening_hours': {'open_now': True},\n",
       " 'photos': [{'height': 3024,\n",
       "   'html_attributions': ['<a href=\"https://maps.google.com/maps/contrib/115237335775756784911\">A Google User</a>'],\n",
       "   'photo_reference': 'ATplDJY4KiMW0nWYUQWUV1TqA2MxoKAsKVXEA6gWaUsB9WD8Jbn7ydsjar1zzkhkVM2SM5FNvfQiWbuyKTCIBGIWwhXbDW1kgYHl2yIYZbztf-PH-KuTgxBRs_IKpjceURbVlgaEHDeUTwzYfnX6ayfOsn8L511a59zwxaFmQdR2bS3LdK6N',\n",
       "   'width': 4032}],\n",
       " 'place_id': 'ChIJVWcKUXzfnUcRJPtr4B9y42E',\n",
       " 'plus_code': {'compound_code': '4HJQ+4M Munich',\n",
       "  'global_code': '8FWH4HJQ+4M'},\n",
       " 'rating': 4,\n",
       " 'reference': 'ChIJVWcKUXzfnUcRJPtr4B9y42E',\n",
       " 'scope': 'GOOGLE',\n",
       " 'types': ['point_of_interest', 'establishment'],\n",
       " 'user_ratings_total': 1,\n",
       " 'vicinity': '5 Hochstraße München, DE'}"
      ]
     },
     "execution_count": 88,
     "metadata": {},
     "output_type": "execute_result"
    }
   ],
   "source": [
    "url_nearby = \"https://maps.googleapis.com/maps/api/place/nearbysearch/json\"\n",
    "\n",
    "keyword = \"Ladestation\"\n",
    "#location = \"47.3877086, 8.5255688\"\n",
    "# if I want to directly import the location from the previous query:\n",
    "location = marienplatz\n",
    "\n",
    "radius = \"80000\"\n",
    "#type = \"ladestation\"\n",
    "\n",
    "req_nearby = requests.get(url_nearby + \"?keyword=\" + keyword + \"&location=\" + location + \"&radius=\" + radius +\n",
    "                         \"&type=\" + type + \"&key=\" + api_key)\n",
    "\n",
    "nearby_json = req_nearby.json()\n",
    "\n",
    "my_result_nearby = nearby_json[\"results\"]\n",
    "\n",
    "my_result_nearby[0]"
   ]
  },
  {
   "cell_type": "code",
   "execution_count": 89,
   "id": "4728d640-103d-453c-ba7e-7f87b3e639f1",
   "metadata": {},
   "outputs": [
    {
     "data": {
      "text/plain": [
       "20"
      ]
     },
     "execution_count": 89,
     "metadata": {},
     "output_type": "execute_result"
    }
   ],
   "source": [
    "len(my_result_nearby)"
   ]
  },
  {
   "cell_type": "code",
   "execution_count": null,
   "id": "b9e5837d-bffe-4da9-abf1-56e4fe20a27d",
   "metadata": {},
   "outputs": [],
   "source": []
  }
 ],
 "metadata": {
  "kernelspec": {
   "display_name": "VIZ",
   "language": "python",
   "name": "viz"
  },
  "language_info": {
   "codemirror_mode": {
    "name": "ipython",
    "version": 3
   },
   "file_extension": ".py",
   "mimetype": "text/x-python",
   "name": "python",
   "nbconvert_exporter": "python",
   "pygments_lexer": "ipython3",
   "version": "3.11.7"
  }
 },
 "nbformat": 4,
 "nbformat_minor": 5
}
