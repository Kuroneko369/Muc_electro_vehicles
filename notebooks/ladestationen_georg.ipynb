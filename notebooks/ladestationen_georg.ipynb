{
 "cells": [
  {
   "cell_type": "markdown",
   "id": "4b12d724-213b-429d-9506-49e16b8a0c58",
   "metadata": {},
   "source": [
    "## Clean Dataframes with E-Ladestation Data"
   ]
  },
  {
   "cell_type": "code",
   "execution_count": 1,
   "id": "ca96e154-f504-4034-9495-15a3b06b984f",
   "metadata": {},
   "outputs": [],
   "source": [
    "import pandas as pd\n",
    "import matplotlib.pyplot as plt\n",
    "import seaborn as sns"
   ]
  },
  {
   "cell_type": "code",
   "execution_count": 106,
   "id": "0e01ae4d-7744-4c00-a555-d26223a81ecd",
   "metadata": {},
   "outputs": [
    {
     "data": {
      "text/html": [
       "<div>\n",
       "<style scoped>\n",
       "    .dataframe tbody tr th:only-of-type {\n",
       "        vertical-align: middle;\n",
       "    }\n",
       "\n",
       "    .dataframe tbody tr th {\n",
       "        vertical-align: top;\n",
       "    }\n",
       "\n",
       "    .dataframe thead th {\n",
       "        text-align: right;\n",
       "    }\n",
       "</style>\n",
       "<table border=\"1\" class=\"dataframe\">\n",
       "  <thead>\n",
       "    <tr style=\"text-align: right;\">\n",
       "      <th></th>\n",
       "      <th>FID</th>\n",
       "      <th>anzahl_els</th>\n",
       "      <th>anzahl_lp_ac</th>\n",
       "      <th>anzahl_lp_alle</th>\n",
       "      <th>anzahl_lp_dc</th>\n",
       "      <th>anzahl_stpl</th>\n",
       "      <th>aufstelldatum</th>\n",
       "      <th>bemerkung</th>\n",
       "      <th>stadtbezirk</th>\n",
       "      <th>standort</th>\n",
       "      <th>haupttyp</th>\n",
       "      <th>haupttyp_bedeutung</th>\n",
       "      <th>shape</th>\n",
       "    </tr>\n",
       "  </thead>\n",
       "  <tbody>\n",
       "    <tr>\n",
       "      <th>0</th>\n",
       "      <td>opendata_ruhver_els_point.1</td>\n",
       "      <td>1</td>\n",
       "      <td>2</td>\n",
       "      <td>2</td>\n",
       "      <td>0</td>\n",
       "      <td>2</td>\n",
       "      <td>2017-05-29</td>\n",
       "      <td>NaN</td>\n",
       "      <td>6</td>\n",
       "      <td>Urbanstr. 2</td>\n",
       "      <td>0</td>\n",
       "      <td>In Betrieb befindliche Ladesäulen</td>\n",
       "      <td>POINT (689684.126600797 5331783.312798096)</td>\n",
       "    </tr>\n",
       "    <tr>\n",
       "      <th>1</th>\n",
       "      <td>opendata_ruhver_els_point.2</td>\n",
       "      <td>1</td>\n",
       "      <td>2</td>\n",
       "      <td>2</td>\n",
       "      <td>0</td>\n",
       "      <td>2</td>\n",
       "      <td>2017-10-12</td>\n",
       "      <td>NaN</td>\n",
       "      <td>6</td>\n",
       "      <td>Urbanstr. 6</td>\n",
       "      <td>0</td>\n",
       "      <td>In Betrieb befindliche Ladesäulen</td>\n",
       "      <td>POINT (689751.0750007983 5331777.291698092)</td>\n",
       "    </tr>\n",
       "    <tr>\n",
       "      <th>2</th>\n",
       "      <td>opendata_ruhver_els_point.3</td>\n",
       "      <td>2</td>\n",
       "      <td>4</td>\n",
       "      <td>4</td>\n",
       "      <td>0</td>\n",
       "      <td>4</td>\n",
       "      <td>2017-09-14</td>\n",
       "      <td>NaN</td>\n",
       "      <td>18</td>\n",
       "      <td>Reginfriedstr. 2</td>\n",
       "      <td>0</td>\n",
       "      <td>In Betrieb befindliche Ladesäulen</td>\n",
       "      <td>POINT (691870.9652008448 5331775.829797959)</td>\n",
       "    </tr>\n",
       "  </tbody>\n",
       "</table>\n",
       "</div>"
      ],
      "text/plain": [
       "                           FID  anzahl_els  anzahl_lp_ac  anzahl_lp_alle  \\\n",
       "0  opendata_ruhver_els_point.1           1             2               2   \n",
       "1  opendata_ruhver_els_point.2           1             2               2   \n",
       "2  opendata_ruhver_els_point.3           2             4               4   \n",
       "\n",
       "   anzahl_lp_dc  anzahl_stpl aufstelldatum bemerkung  stadtbezirk  \\\n",
       "0             0            2    2017-05-29       NaN            6   \n",
       "1             0            2    2017-10-12       NaN            6   \n",
       "2             0            4    2017-09-14       NaN           18   \n",
       "\n",
       "           standort  haupttyp                 haupttyp_bedeutung  \\\n",
       "0       Urbanstr. 2         0  In Betrieb befindliche Ladesäulen   \n",
       "1       Urbanstr. 6         0  In Betrieb befindliche Ladesäulen   \n",
       "2  Reginfriedstr. 2         0  In Betrieb befindliche Ladesäulen   \n",
       "\n",
       "                                         shape  \n",
       "0   POINT (689684.126600797 5331783.312798096)  \n",
       "1  POINT (689751.0750007983 5331777.291698092)  \n",
       "2  POINT (691870.9652008448 5331775.829797959)  "
      ]
     },
     "execution_count": 106,
     "metadata": {},
     "output_type": "execute_result"
    }
   ],
   "source": [
    "df_els = pd.read_csv(\"ladestationen_MUC_georg.csv\")\n",
    "df_els[\"aufstelldatum\"] = pd.to_datetime(df_els[\"aufstelldatum\"])\n",
    "df_els.head(3)"
   ]
  },
  {
   "cell_type": "code",
   "execution_count": 112,
   "id": "d759a04a-ccd7-4ac2-9263-12efbc70f4ac",
   "metadata": {},
   "outputs": [
    {
     "data": {
      "text/plain": [
       "<Axes: xlabel='stadtbezirk'>"
      ]
     },
     "execution_count": 112,
     "metadata": {},
     "output_type": "execute_result"
    },
    {
     "data": {
      "image/png": "[encoded data removed]",
      "text/plain": [
       "<Figure size 640x480 with 1 Axes>"
      ]
     },
     "metadata": {},
     "output_type": "display_data"
    }
   ],
   "source": [
    "df_els.groupby(\"stadtbezirk\")[\"anzahl_stpl\"].sum().plot(kind=\"bar\")"
   ]
  },
  {
   "cell_type": "code",
   "execution_count": 55,
   "id": "8f4b4cbc-9221-4d57-9524-82359855d260",
   "metadata": {
    "scrolled": true
   },
   "outputs": [],
   "source": [
    "df_bna = pd.read_csv(\"ladesaulen_only_muc.csv\")\n",
    "df_bna[\"Standort\"] = df_bna[\"Straße\"] + \" \" + df_bna[\"Hausnummer\"]\n",
    "df_bna[\"Inbetriebnahmedatum\"] = pd.to_datetime(df_bna[\"Inbetriebnahmedatum\"])"
   ]
  },
  {
   "cell_type": "code",
   "execution_count": 58,
   "id": "6a90cf8b-8959-42c9-8df3-8a3cd3f2eb4a",
   "metadata": {},
   "outputs": [
    {
     "name": "stdout",
     "output_type": "stream",
     "text": [
      "<class 'pandas.core.frame.DataFrame'>\n",
      "RangeIndex: 1619 entries, 0 to 1618\n",
      "Data columns (total 27 columns):\n",
      " #   Column                             Non-Null Count  Dtype         \n",
      "---  ------                             --------------  -----         \n",
      " 0   Betreiber                          1619 non-null   object        \n",
      " 1   Straße                             1619 non-null   object        \n",
      " 2   Hausnummer                         1619 non-null   object        \n",
      " 3   Adresszusatz                       99 non-null     object        \n",
      " 4   Postleitzahl                       1619 non-null   int64         \n",
      " 5   Ort                                1619 non-null   object        \n",
      " 6   Bundesland                         1619 non-null   object        \n",
      " 7   Kreis/kreisfreie Stadt             1619 non-null   object        \n",
      " 8   Breitengrad                        1619 non-null   object        \n",
      " 9   Längengrad                         1619 non-null   object        \n",
      " 10  Inbetriebnahmedatum                1619 non-null   datetime64[ns]\n",
      " 11  Nennleistung Ladeeinrichtung [kW]  1619 non-null   object        \n",
      " 12  Art der Ladeeinrichung             1619 non-null   object        \n",
      " 13  Anzahl Ladepunkte                  1619 non-null   int64         \n",
      " 14  Steckertypen1                      1619 non-null   object        \n",
      " 15  P1 [kW]                            1619 non-null   object        \n",
      " 16  Public Key1                        70 non-null     object        \n",
      " 17  Steckertypen2                      798 non-null    object        \n",
      " 18  P2 [kW]                            798 non-null    float64       \n",
      " 19  Public Key2                        39 non-null     object        \n",
      " 20  Steckertypen3                      36 non-null     object        \n",
      " 21  P3 [kW]                            36 non-null     float64       \n",
      " 22  Public Key3                        9 non-null      object        \n",
      " 23  Steckertypen4                      26 non-null     object        \n",
      " 24  P4 [kW]                            26 non-null     float64       \n",
      " 25  Public Key4                        7 non-null      object        \n",
      " 26  Standort                           1619 non-null   object        \n",
      "dtypes: datetime64[ns](1), float64(3), int64(2), object(21)\n",
      "memory usage: 341.6+ KB\n"
     ]
    }
   ],
   "source": [
    "df_bna.info()"
   ]
  },
  {
   "cell_type": "code",
   "execution_count": 74,
   "id": "6d47dc12-573e-465b-8568-83135a13198f",
   "metadata": {
    "scrolled": true
   },
   "outputs": [],
   "source": [
    "df_bna_red = df_bna[[\"Inbetriebnahmedatum\", \"Standort\", \"Anzahl Ladepunkte\", \n",
    "                     \"Betreiber\", \"Postleitzahl\", \"Breitengrad\", \"Längengrad\",]]\n",
    "\n",
    "df_bna_red = df_bna_red.rename(columns={\"Inbetriebnahmedatum\":\"Datum\", \"Anzahl Ladepunkte\":\"Ladepunkte\"})"
   ]
  },
  {
   "cell_type": "code",
   "execution_count": 72,
   "id": "51b5300d-c78d-471f-94dc-e374218e36db",
   "metadata": {},
   "outputs": [],
   "source": [
    "df_els_red = df_els[[\"aufstelldatum\", \"standort\", \"anzahl_stpl\", \"stadtbezirk\", \"shape\"]]\n",
    "\n",
    "df_els_red = df_els_red.rename(columns={\"anzahl_stpl\":\"Ladepunkte\", \"aufstelldatum\":\"Datum\", \"stadtbezirk\":\"Bezirk\",\n",
    "                                       \"standort\":\"Standort\"})"
   ]
  },
  {
   "cell_type": "code",
   "execution_count": 107,
   "id": "d516cb7d-3661-4607-a5a5-45fd7200c262",
   "metadata": {},
   "outputs": [
    {
     "data": {
      "text/html": [
       "<div>\n",
       "<style scoped>\n",
       "    .dataframe tbody tr th:only-of-type {\n",
       "        vertical-align: middle;\n",
       "    }\n",
       "\n",
       "    .dataframe tbody tr th {\n",
       "        vertical-align: top;\n",
       "    }\n",
       "\n",
       "    .dataframe thead th {\n",
       "        text-align: right;\n",
       "    }\n",
       "</style>\n",
       "<table border=\"1\" class=\"dataframe\">\n",
       "  <thead>\n",
       "    <tr style=\"text-align: right;\">\n",
       "      <th></th>\n",
       "      <th>Datum</th>\n",
       "      <th>Standort</th>\n",
       "      <th>Ladepunkte</th>\n",
       "      <th>Betreiber</th>\n",
       "      <th>Postleitzahl</th>\n",
       "      <th>Breitengrad</th>\n",
       "      <th>Längengrad</th>\n",
       "    </tr>\n",
       "  </thead>\n",
       "  <tbody>\n",
       "    <tr>\n",
       "      <th>406</th>\n",
       "      <td>2020-07-07</td>\n",
       "      <td>Adalbertstraße 82</td>\n",
       "      <td>3</td>\n",
       "      <td>Qwello GmbH</td>\n",
       "      <td>80799</td>\n",
       "      <td>48,153788</td>\n",
       "      <td>11,573262</td>\n",
       "    </tr>\n",
       "    <tr>\n",
       "      <th>1448</th>\n",
       "      <td>2019-05-09</td>\n",
       "      <td>Adam-Berg-Str. 24</td>\n",
       "      <td>2</td>\n",
       "      <td>SWM Versorgungs GmbH</td>\n",
       "      <td>81735</td>\n",
       "      <td>48,11371</td>\n",
       "      <td>11,622677</td>\n",
       "    </tr>\n",
       "    <tr>\n",
       "      <th>225</th>\n",
       "      <td>2019-10-16</td>\n",
       "      <td>Agnes-Bernauer-Pl. 8</td>\n",
       "      <td>2</td>\n",
       "      <td>SWM Versorgungs GmbH</td>\n",
       "      <td>80687</td>\n",
       "      <td>48,140193</td>\n",
       "      <td>11,49647</td>\n",
       "    </tr>\n",
       "    <tr>\n",
       "      <th>226</th>\n",
       "      <td>2019-10-16</td>\n",
       "      <td>Agnes-Bernauer-Pl. 8a</td>\n",
       "      <td>2</td>\n",
       "      <td>SWM Versorgungs GmbH</td>\n",
       "      <td>80687</td>\n",
       "      <td>48,140208</td>\n",
       "      <td>11,49631</td>\n",
       "    </tr>\n",
       "    <tr>\n",
       "      <th>1107</th>\n",
       "      <td>2018-04-12</td>\n",
       "      <td>Agnes-Pockels-Bogen 1</td>\n",
       "      <td>2</td>\n",
       "      <td>SWM Versorgungs GmbH</td>\n",
       "      <td>80992</td>\n",
       "      <td>48,173258</td>\n",
       "      <td>11,532358</td>\n",
       "    </tr>\n",
       "  </tbody>\n",
       "</table>\n",
       "</div>"
      ],
      "text/plain": [
       "          Datum               Standort  Ladepunkte             Betreiber  \\\n",
       "406  2020-07-07      Adalbertstraße 82           3           Qwello GmbH   \n",
       "1448 2019-05-09      Adam-Berg-Str. 24           2  SWM Versorgungs GmbH   \n",
       "225  2019-10-16   Agnes-Bernauer-Pl. 8           2  SWM Versorgungs GmbH   \n",
       "226  2019-10-16  Agnes-Bernauer-Pl. 8a           2  SWM Versorgungs GmbH   \n",
       "1107 2018-04-12  Agnes-Pockels-Bogen 1           2  SWM Versorgungs GmbH   \n",
       "\n",
       "      Postleitzahl Breitengrad Längengrad  \n",
       "406          80799   48,153788  11,573262  \n",
       "1448         81735    48,11371  11,622677  \n",
       "225          80687   48,140193   11,49647  \n",
       "226          80687   48,140208   11,49631  \n",
       "1107         80992   48,173258  11,532358  "
      ]
     },
     "execution_count": 107,
     "metadata": {},
     "output_type": "execute_result"
    }
   ],
   "source": [
    "df_bna_red.sort_values(\"Standort\").head(5)"
   ]
  },
  {
   "cell_type": "code",
   "execution_count": 108,
   "id": "3cb67f22-b1d4-4924-8673-cc5eab65dd7c",
   "metadata": {},
   "outputs": [
    {
     "data": {
      "text/html": [
       "<div>\n",
       "<style scoped>\n",
       "    .dataframe tbody tr th:only-of-type {\n",
       "        vertical-align: middle;\n",
       "    }\n",
       "\n",
       "    .dataframe tbody tr th {\n",
       "        vertical-align: top;\n",
       "    }\n",
       "\n",
       "    .dataframe thead th {\n",
       "        text-align: right;\n",
       "    }\n",
       "</style>\n",
       "<table border=\"1\" class=\"dataframe\">\n",
       "  <thead>\n",
       "    <tr style=\"text-align: right;\">\n",
       "      <th></th>\n",
       "      <th>Datum</th>\n",
       "      <th>Standort</th>\n",
       "      <th>Ladepunkte</th>\n",
       "      <th>Bezirk</th>\n",
       "      <th>shape</th>\n",
       "    </tr>\n",
       "  </thead>\n",
       "  <tbody>\n",
       "    <tr>\n",
       "      <th>105</th>\n",
       "      <td>2019-04-17</td>\n",
       "      <td>Adam-Berg-Str. 24</td>\n",
       "      <td>4</td>\n",
       "      <td>16</td>\n",
       "      <td>POINT (695197.4377009186 5332245.63149773)</td>\n",
       "    </tr>\n",
       "    <tr>\n",
       "      <th>138</th>\n",
       "      <td>2019-09-04</td>\n",
       "      <td>Agnes-Bernauer-Platz 8</td>\n",
       "      <td>4</td>\n",
       "      <td>25</td>\n",
       "      <td>POINT (685710.6557007167 5334898.457198311)</td>\n",
       "    </tr>\n",
       "    <tr>\n",
       "      <th>186</th>\n",
       "      <td>2018-04-05</td>\n",
       "      <td>Agnes-Pockels-Bogen 1</td>\n",
       "      <td>2</td>\n",
       "      <td>10</td>\n",
       "      <td>POINT (688265.6010007665 5338656.678198167)</td>\n",
       "    </tr>\n",
       "    <tr>\n",
       "      <th>133</th>\n",
       "      <td>2018-12-05</td>\n",
       "      <td>Aindorferstr. 135</td>\n",
       "      <td>4</td>\n",
       "      <td>25</td>\n",
       "      <td>POINT (685594.1170007145 5334010.582798319)</td>\n",
       "    </tr>\n",
       "    <tr>\n",
       "      <th>129</th>\n",
       "      <td>2018-12-05</td>\n",
       "      <td>Aindorferstr. 91a</td>\n",
       "      <td>4</td>\n",
       "      <td>25</td>\n",
       "      <td>POINT (686003.9546007224 5333899.750998299)</td>\n",
       "    </tr>\n",
       "  </tbody>\n",
       "</table>\n",
       "</div>"
      ],
      "text/plain": [
       "         Datum                Standort  Ladepunkte  Bezirk  \\\n",
       "105 2019-04-17       Adam-Berg-Str. 24           4      16   \n",
       "138 2019-09-04  Agnes-Bernauer-Platz 8           4      25   \n",
       "186 2018-04-05   Agnes-Pockels-Bogen 1           2      10   \n",
       "133 2018-12-05       Aindorferstr. 135           4      25   \n",
       "129 2018-12-05       Aindorferstr. 91a           4      25   \n",
       "\n",
       "                                           shape  \n",
       "105   POINT (695197.4377009186 5332245.63149773)  \n",
       "138  POINT (685710.6557007167 5334898.457198311)  \n",
       "186  POINT (688265.6010007665 5338656.678198167)  \n",
       "133  POINT (685594.1170007145 5334010.582798319)  \n",
       "129  POINT (686003.9546007224 5333899.750998299)  "
      ]
     },
     "execution_count": 108,
     "metadata": {},
     "output_type": "execute_result"
    }
   ],
   "source": [
    "df_els_red.sort_values(\"Standort\").head(5)"
   ]
  },
  {
   "cell_type": "code",
   "execution_count": 109,
   "id": "fc426180-831a-4a4e-b219-7abbfef9c787",
   "metadata": {},
   "outputs": [
    {
     "data": {
      "text/html": [
       "<div>\n",
       "<style scoped>\n",
       "    .dataframe tbody tr th:only-of-type {\n",
       "        vertical-align: middle;\n",
       "    }\n",
       "\n",
       "    .dataframe tbody tr th {\n",
       "        vertical-align: top;\n",
       "    }\n",
       "\n",
       "    .dataframe thead th {\n",
       "        text-align: right;\n",
       "    }\n",
       "</style>\n",
       "<table border=\"1\" class=\"dataframe\">\n",
       "  <thead>\n",
       "    <tr style=\"text-align: right;\">\n",
       "      <th></th>\n",
       "      <th>Datum</th>\n",
       "      <th>Standort</th>\n",
       "      <th>Ladepunkte</th>\n",
       "      <th>Betreiber</th>\n",
       "      <th>Postleitzahl</th>\n",
       "      <th>Breitengrad</th>\n",
       "      <th>Längengrad</th>\n",
       "    </tr>\n",
       "  </thead>\n",
       "  <tbody>\n",
       "    <tr>\n",
       "      <th>0</th>\n",
       "      <td>2020-01-31</td>\n",
       "      <td>Karl-Hromadnik-Str. 2</td>\n",
       "      <td>2</td>\n",
       "      <td>SWM Versorgungs GmbH</td>\n",
       "      <td>80241</td>\n",
       "      <td>48,137018</td>\n",
       "      <td>11,456796</td>\n",
       "    </tr>\n",
       "    <tr>\n",
       "      <th>1</th>\n",
       "      <td>2018-12-07</td>\n",
       "      <td>Peter-Kreuder-Str. 5</td>\n",
       "      <td>2</td>\n",
       "      <td>SWM Versorgungs GmbH</td>\n",
       "      <td>80245</td>\n",
       "      <td>48,159746</td>\n",
       "      <td>11,445709</td>\n",
       "    </tr>\n",
       "    <tr>\n",
       "      <th>2</th>\n",
       "      <td>2018-12-07</td>\n",
       "      <td>Peter-Kreuder-Str. 5a</td>\n",
       "      <td>2</td>\n",
       "      <td>SWM Versorgungs GmbH</td>\n",
       "      <td>80245</td>\n",
       "      <td>48,159701</td>\n",
       "      <td>11,445643</td>\n",
       "    </tr>\n",
       "    <tr>\n",
       "      <th>3</th>\n",
       "      <td>2018-12-11</td>\n",
       "      <td>Wiesentfelser Str. 16</td>\n",
       "      <td>2</td>\n",
       "      <td>SWM Versorgungs GmbH</td>\n",
       "      <td>80249</td>\n",
       "      <td>48,147492</td>\n",
       "      <td>11,419531</td>\n",
       "    </tr>\n",
       "    <tr>\n",
       "      <th>12</th>\n",
       "      <td>2017-12-19</td>\n",
       "      <td>Westenriederstr. 39</td>\n",
       "      <td>2</td>\n",
       "      <td>SWM Versorgungs GmbH</td>\n",
       "      <td>80331</td>\n",
       "      <td>48,135012</td>\n",
       "      <td>11,579745</td>\n",
       "    </tr>\n",
       "    <tr>\n",
       "      <th>...</th>\n",
       "      <td>...</td>\n",
       "      <td>...</td>\n",
       "      <td>...</td>\n",
       "      <td>...</td>\n",
       "      <td>...</td>\n",
       "      <td>...</td>\n",
       "      <td>...</td>\n",
       "    </tr>\n",
       "    <tr>\n",
       "      <th>1607</th>\n",
       "      <td>2017-08-07</td>\n",
       "      <td>Robert-Heger-Str. 22</td>\n",
       "      <td>2</td>\n",
       "      <td>SWM Versorgungs GmbH</td>\n",
       "      <td>81927</td>\n",
       "      <td>48,158571</td>\n",
       "      <td>11,642595</td>\n",
       "    </tr>\n",
       "    <tr>\n",
       "      <th>1608</th>\n",
       "      <td>2019-11-18</td>\n",
       "      <td>Meistersingerstr. 118</td>\n",
       "      <td>2</td>\n",
       "      <td>SWM Versorgungs GmbH</td>\n",
       "      <td>81927</td>\n",
       "      <td>48,157852</td>\n",
       "      <td>11,637345</td>\n",
       "    </tr>\n",
       "    <tr>\n",
       "      <th>1609</th>\n",
       "      <td>2020-01-13</td>\n",
       "      <td>Schnorr-von-Carolsfeld-Str. 17</td>\n",
       "      <td>2</td>\n",
       "      <td>SWM Versorgungs GmbH</td>\n",
       "      <td>81927</td>\n",
       "      <td>48,15734</td>\n",
       "      <td>11,646599</td>\n",
       "    </tr>\n",
       "    <tr>\n",
       "      <th>1612</th>\n",
       "      <td>2018-12-07</td>\n",
       "      <td>Marienburger Str. 1</td>\n",
       "      <td>2</td>\n",
       "      <td>SWM Versorgungs GmbH</td>\n",
       "      <td>81929</td>\n",
       "      <td>48,119093</td>\n",
       "      <td>11,674363</td>\n",
       "    </tr>\n",
       "    <tr>\n",
       "      <th>1613</th>\n",
       "      <td>2018-12-07</td>\n",
       "      <td>Cosimastr. 137</td>\n",
       "      <td>2</td>\n",
       "      <td>SWM Versorgungs GmbH</td>\n",
       "      <td>81929</td>\n",
       "      <td>48,16495</td>\n",
       "      <td>11,629154</td>\n",
       "    </tr>\n",
       "  </tbody>\n",
       "</table>\n",
       "<p>594 rows × 7 columns</p>\n",
       "</div>"
      ],
      "text/plain": [
       "          Datum                        Standort  Ladepunkte  \\\n",
       "0    2020-01-31           Karl-Hromadnik-Str. 2           2   \n",
       "1    2018-12-07            Peter-Kreuder-Str. 5           2   \n",
       "2    2018-12-07           Peter-Kreuder-Str. 5a           2   \n",
       "3    2018-12-11           Wiesentfelser Str. 16           2   \n",
       "12   2017-12-19             Westenriederstr. 39           2   \n",
       "...         ...                             ...         ...   \n",
       "1607 2017-08-07            Robert-Heger-Str. 22           2   \n",
       "1608 2019-11-18           Meistersingerstr. 118           2   \n",
       "1609 2020-01-13  Schnorr-von-Carolsfeld-Str. 17           2   \n",
       "1612 2018-12-07             Marienburger Str. 1           2   \n",
       "1613 2018-12-07                  Cosimastr. 137           2   \n",
       "\n",
       "                 Betreiber  Postleitzahl Breitengrad Längengrad  \n",
       "0     SWM Versorgungs GmbH         80241   48,137018  11,456796  \n",
       "1     SWM Versorgungs GmbH         80245   48,159746  11,445709  \n",
       "2     SWM Versorgungs GmbH         80245   48,159701  11,445643  \n",
       "3     SWM Versorgungs GmbH         80249   48,147492  11,419531  \n",
       "12    SWM Versorgungs GmbH         80331   48,135012  11,579745  \n",
       "...                    ...           ...         ...        ...  \n",
       "1607  SWM Versorgungs GmbH         81927   48,158571  11,642595  \n",
       "1608  SWM Versorgungs GmbH         81927   48,157852  11,637345  \n",
       "1609  SWM Versorgungs GmbH         81927    48,15734  11,646599  \n",
       "1612  SWM Versorgungs GmbH         81929   48,119093  11,674363  \n",
       "1613  SWM Versorgungs GmbH         81929    48,16495  11,629154  \n",
       "\n",
       "[594 rows x 7 columns]"
      ]
     },
     "execution_count": 109,
     "metadata": {},
     "output_type": "execute_result"
    }
   ],
   "source": [
    "df_bna_red[df_bna_red[\"Betreiber\"] == \"SWM Versorgungs GmbH\"]"
   ]
  },
  {
   "cell_type": "code",
   "execution_count": 94,
   "id": "1e305a29-1d4e-4e12-b5ab-17544b19fcd9",
   "metadata": {},
   "outputs": [],
   "source": [
    "df_bna_red_ind = df_bna_red.set_index(df_bna_red[\"Datum\"])"
   ]
  },
  {
   "cell_type": "code",
   "execution_count": 104,
   "id": "215536eb-7a50-426d-b55c-e595f7221a90",
   "metadata": {},
   "outputs": [],
   "source": [
    "df_bna_LP_month = df_bna_red_ind.groupby([(df_bna_red_ind.Datum.index.year\n",
    "                                          ), (df_bna_red_ind.Datum.index.month)])['Ladepunkte'].sum()"
   ]
  },
  {
   "cell_type": "code",
   "execution_count": 111,
   "id": "16cd9bb0-2cb3-4d4e-857f-27fec9158d3f",
   "metadata": {},
   "outputs": [
    {
     "data": {
      "image/png": "[encoded data removed]",
      "text/plain": [
       "<Figure size 640x480 with 1 Axes>"
      ]
     },
     "metadata": {},
     "output_type": "display_data"
    }
   ],
   "source": [
    "df_bna_LP_month.cumsum().plot()\n",
    "plt.show()"
   ]
  },
  {
   "cell_type": "code",
   "execution_count": 116,
   "id": "c8509d49-3f04-496b-88d1-4d7e4921052e",
   "metadata": {},
   "outputs": [],
   "source": [
    "df_els_date = df_els_red.set_index(df_els_red[\"Datum\"])\n",
    "df_els_LP_month = df_els_date.groupby([(df_els_date.Datum.index.year\n",
    "                                          ), (df_els_date.Datum.index.month)])['Ladepunkte'].sum()"
   ]
  },
  {
   "cell_type": "code",
   "execution_count": 117,
   "id": "d94c67c9-e8f9-44bc-a015-7f5f4719c5ca",
   "metadata": {},
   "outputs": [
    {
     "data": {
      "image/png": "[encoded data removed]",
      "text/plain": [
       "<Figure size 640x480 with 1 Axes>"
      ]
     },
     "metadata": {},
     "output_type": "display_data"
    }
   ],
   "source": [
    "df_els_LP_month.cumsum().plot()\n",
    "plt.show()"
   ]
  },
  {
   "cell_type": "code",
   "execution_count": null,
   "id": "d56b8274-1203-48cf-9e9c-fa1701a5d132",
   "metadata": {},
   "outputs": [],
   "source": []
  }
 ],
 "metadata": {
  "kernelspec": {
   "display_name": "VIZ",
   "language": "python",
   "name": "viz"
  },
  "language_info": {
   "codemirror_mode": {
    "name": "ipython",
    "version": 3
   },
   "file_extension": ".py",
   "mimetype": "text/x-python",
   "name": "python",
   "nbconvert_exporter": "python",
   "pygments_lexer": "ipython3",
   "version": "3.11.7"
  }
 },
 "nbformat": 4,
 "nbformat_minor": 5
}
